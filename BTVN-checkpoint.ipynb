{
 "cells": [
  {
   "cell_type": "code",
   "execution_count": 1,
   "id": "208a4b54-8b88-4590-900d-bff8356b3543",
   "metadata": {
    "jp-MarkdownHeadingCollapsed": true
   },
   "outputs": [
    {
     "name": "stdin",
     "output_type": "stream",
     "text": [
      "nhập số n:  5\n"
     ]
    },
    {
     "name": "stdout",
     "output_type": "stream",
     "text": [
      "15\n"
     ]
    }
   ],
   "source": [
    "#HW1\n",
    "n=int(input(\"nhập số n: \"))\n",
    "print(3*n)"
   ]
  },
  {
   "cell_type": "code",
   "execution_count": 22,
   "id": "211e40a9-10d1-40a0-8c12-ccea7f2f7806",
   "metadata": {},
   "outputs": [
    {
     "name": "stdin",
     "output_type": "stream",
     "text": [
      "Nhập chiều rộng:  3\n",
      "Nhập chiều dài:  4\n"
     ]
    },
    {
     "name": "stdout",
     "output_type": "stream",
     "text": [
      "Diện tích còn lại là: 4.935\n"
     ]
    }
   ],
   "source": [
    "#HW2\n",
    "a=int(input(\"Nhập chiều rộng: \"))\n",
    "b=int(input(\"Nhập chiều dài: \"))\n",
    "hcn=a*b\n",
    "ht=3.14*(a / 2)**2 \n",
    "print(\"Diện tích còn lại là:\", hcn-ht)"
   ]
  },
  {
   "cell_type": "code",
   "execution_count": 31,
   "id": "b77cd966-9ed3-4cac-8160-98a411436c0c",
   "metadata": {},
   "outputs": [
    {
     "name": "stdin",
     "output_type": "stream",
     "text": [
      " B\n"
     ]
    },
    {
     "name": "stdout",
     "output_type": "stream",
     "text": [
      "b\n"
     ]
    }
   ],
   "source": [
    "#HW3\n",
    "a=input()\n",
    "b=ord(a)\n",
    "if b>=65 and b<= 90:\n",
    "    print(chr(b+32))\n",
    "elif b>=97 and b<=122:\n",
    "    print(chr(b-32))"
   ]
  },
  {
   "cell_type": "code",
   "execution_count": 35,
   "id": "3a020941-fc63-459b-b80b-21c931830b86",
   "metadata": {},
   "outputs": [
    {
     "name": "stdin",
     "output_type": "stream",
     "text": [
      " L\n"
     ]
    },
    {
     "name": "stdout",
     "output_type": "stream",
     "text": [
      "L là kí tự alphabet\n"
     ]
    }
   ],
   "source": [
    "#HW4\n",
    "kitu=input()\n",
    "a=ord(kitu)\n",
    "if a>=65 and a<=122:\n",
    "    print( kitu, \"là kí tự alphabet\")\n",
    "else:\n",
    "    print(kitu,\"không phải kí tự alphabet\")"
   ]
  },
  {
   "cell_type": "code",
   "execution_count": 3,
   "id": "21496c08-52bf-4b06-adc6-ef340413e1ea",
   "metadata": {},
   "outputs": [
    {
     "name": "stdin",
     "output_type": "stream",
     "text": [
      " f\n"
     ]
    },
    {
     "name": "stdout",
     "output_type": "stream",
     "text": [
      "e\n"
     ]
    }
   ],
   "source": [
    "#HW5\n",
    "a=input()\n",
    "if a==\"A\":\n",
    "    print (\"z\")\n",
    "else:\n",
    "    print(chr(ord(a)-1))"
   ]
  },
  {
   "cell_type": "code",
   "execution_count": 9,
   "id": "74d931d7-9fba-4c73-8d1f-b1679c7da4d6",
   "metadata": {},
   "outputs": [
    {
     "name": "stdin",
     "output_type": "stream",
     "text": [
      " nhập độ dài 3 cạnh theo thứ tự:  3 4 5\n"
     ]
    },
    {
     "name": "stdout",
     "output_type": "stream",
     "text": [
      "diện tích tam giác là:  6.0\n"
     ]
    }
   ],
   "source": [
    "#HW6\n",
    "a,b,c=map(int,input(\" nhập độ dài 3 cạnh theo thứ tự: \").split()) #map(.split()) viết nhiều số trong 1 dòng lệnh\n",
    "a,b,c>0\n",
    "if a**2+b**2==c**2:\n",
    "    print(\"diện tích tam giác là: \", 1/2*a*b)\n",
    "else:\n",
    "    print(\"không phải tam giác vuông\")"
   ]
  },
  {
   "cell_type": "code",
   "execution_count": 10,
   "id": "fb0d8af7-a716-40f5-9eef-dcd64d5663a7",
   "metadata": {},
   "outputs": [
    {
     "name": "stdin",
     "output_type": "stream",
     "text": [
      "nhập chuỗi kí tự (>=20):  zxcvbnmasdfghjklqwertyuiop\n"
     ]
    },
    {
     "name": "stdout",
     "output_type": "stream",
     "text": [
      "b s\n"
     ]
    }
   ],
   "source": [
    "#HW7\n",
    "s=input(\"nhập chuỗi kí tự (>=20): \")\n",
    "string=list(s)  #tenbien=list() chuyển dữ liệu sang danh sách\n",
    "print(string[4], string[8])"
   ]
  },
  {
   "cell_type": "code",
   "execution_count": 21,
   "id": "aebe2ee1-0a68-4421-98ea-bca6d22b4d35",
   "metadata": {},
   "outputs": [
    {
     "name": "stdin",
     "output_type": "stream",
     "text": [
      "nhập tên chủ hộ:  Nguyen Xuan Hai\n",
      " nhập số điện tháng trước: 2000\n",
      "nhập số điện tháng này:  2586\n"
     ]
    },
    {
     "name": "stdout",
     "output_type": "stream",
     "text": [
      "số tiền phải trả là:  1855505.0\n"
     ]
    }
   ],
   "source": [
    "#HW8\n",
    "chuho=input(\"nhập tên chủ hộ: \")\n",
    "trc=int(input(\" nhập số điện tháng trước:\"))\n",
    "sau=int(input(\"nhập số điện tháng này: \"))\n",
    "if sau-trc<=50:\n",
    "    print(\"số tiền phải trả là: \", round((sau-trc)*1984+(sau-trc)*1984*8/100,0))\n",
    "elif sau-trc>50 and sau-trc<=100:\n",
    "    print(\"số tiền phải trả là: \", round(50*1984+(sau-trc-50)*2050+(50*1984+(sau-trc-50)*2050)*8/100,0))\n",
    "elif sau-trc>100 and sau-trc<=200:\n",
    "    print(\"số tiền phải trả là: \", round(50*1984+50*2050+(sau-trc-100)*2380+(50*1984+50*2050+(sau-trc-100)*2380)*8/100,0))\n",
    "elif sau-trc>200 and sau-trc<=300:\n",
    "    print(\"số tiền phải trả là: \", round(50*1984+50*2050+100*2380+(sau-trc-200)*2998+ (50*1984+50*2050+100*2380+(sau-trc-200)*2998)*8/100,))\n",
    "elif sau-trc>300 and sau-trc<=400:\n",
    "    print(\"số tiền phải trả là: \", round(50*1984+50*2050+100*2380+100*2998+(sau-trc-300)*3350+(50*1984+50*2050+100*2380+100*2998+(sau-trc-300)*3350)*8/100,0))\n",
    "elif sau-trc>400:\n",
    "    print(\"số tiền phải trả là: \", round(50*1984+50*2050+100*2380+100*2998+100*3350+(sau-trc-400)*3460+(50*1984+50*2050+100*2380+100*2998+100*3350+(sau-trc-400)*3460)*8/100,0))"
   ]
  },
  {
   "cell_type": "code",
   "execution_count": 1,
   "id": "c33fa9eb-3de2-4a69-9326-3104ba98f1a1",
   "metadata": {},
   "outputs": [
    {
     "name": "stdin",
     "output_type": "stream",
     "text": [
      "nhập số nguyên:  45\n"
     ]
    },
    {
     "name": "stdout",
     "output_type": "stream",
     "text": [
      "a là số lẻ\n"
     ]
    }
   ],
   "source": [
    "#BT1\n",
    "a=int(input(\"nhập số nguyên: \"))\n",
    "if a%2==0:\n",
    "    print(\"a là số chẵn\")\n",
    "else:\n",
    "    print(\"a là số lẻ\")"
   ]
  },
  {
   "cell_type": "code",
   "execution_count": 7,
   "id": "7af5ed10-8680-4306-8dd9-c9db74ad1bfa",
   "metadata": {},
   "outputs": [
    {
     "name": "stdin",
     "output_type": "stream",
     "text": [
      "nhập số nguyên:  30\n"
     ]
    },
    {
     "name": "stdout",
     "output_type": "stream",
     "text": [
      "false\n"
     ]
    }
   ],
   "source": [
    "#BT2\n",
    "a=int(input(\"nhập số nguyên: \"))\n",
    "if a%10==5:\n",
    "    print(\"true\")\n",
    "else:\n",
    "    print(\"false\")"
   ]
  },
  {
   "cell_type": "code",
   "execution_count": 10,
   "id": "3a1c1277-dc3a-4db5-9509-c68f036f96eb",
   "metadata": {},
   "outputs": [
    {
     "name": "stdin",
     "output_type": "stream",
     "text": [
      "nhập số nguyên:  25\n"
     ]
    },
    {
     "name": "stdout",
     "output_type": "stream",
     "text": [
      "false\n"
     ]
    }
   ],
   "source": [
    "#BT3\n",
    "a=int(input(\"nhập số nguyên: \"))\n",
    "if a%3==0 and a%5==0:\n",
    "    print(\"true\")\n",
    "else:\n",
    "    print(\"false\")"
   ]
  },
  {
   "cell_type": "code",
   "execution_count": 12,
   "id": "cdcc04f5-2e3c-476f-89b0-84438c03a109",
   "metadata": {},
   "outputs": [
    {
     "name": "stdin",
     "output_type": "stream",
     "text": [
      "nhập số nguyên:  12\n"
     ]
    },
    {
     "name": "stdout",
     "output_type": "stream",
     "text": [
      "không\n"
     ]
    }
   ],
   "source": [
    "#BT4\n",
    "a=int(input(\"nhập số nguyên: \"))\n",
    "if a>=18:\n",
    "    print(\"đủ\")\n",
    "else:\n",
    "    print(\"không\")"
   ]
  },
  {
   "cell_type": "code",
   "execution_count": 20,
   "id": "5294e1c3-4eca-471c-a3f4-2ed8841d940e",
   "metadata": {},
   "outputs": [
    {
     "name": "stdin",
     "output_type": "stream",
     "text": [
      "nhập 2 số:  25 30\n"
     ]
    },
    {
     "name": "stdout",
     "output_type": "stream",
     "text": [
      "30\n"
     ]
    }
   ],
   "source": [
    "#BT5\n",
    "a,b=map(int,input(\"nhập 2 số: \").split( ))\n",
    "if a>b:\n",
    "    print(a)\n",
    "elif b>a:\n",
    "    print(b)\n",
    "else:\n",
    "    print(\"b=a\")"
   ]
  },
  {
   "cell_type": "code",
   "execution_count": 23,
   "id": "6ca213c2-5060-4216-826e-a9b205b2085d",
   "metadata": {},
   "outputs": [
    {
     "name": "stdin",
     "output_type": "stream",
     "text": [
      "nhập kí tự:  3\n"
     ]
    },
    {
     "name": "stdout",
     "output_type": "stream",
     "text": [
      "3 là chữ số\n"
     ]
    }
   ],
   "source": [
    "#BT6\n",
    "a=input(\"nhập kí tự: \")\n",
    "if (65<=ord(a)<=90) or (97<=ord(a)<=122):\n",
    "    print(a, \"là chữ cái\")\n",
    "elif 48<=ord(a)<=57:\n",
    "    print(a, \"là chữ số\")\n",
    "    "
   ]
  },
  {
   "cell_type": "code",
   "execution_count": 24,
   "id": "67128b8e-2141-4115-931b-7072f2880d57",
   "metadata": {},
   "outputs": [
    {
     "name": "stdin",
     "output_type": "stream",
     "text": [
      "nhập điểm:  8.6\n"
     ]
    },
    {
     "name": "stdout",
     "output_type": "stream",
     "text": [
      "giỏi\n"
     ]
    }
   ],
   "source": [
    "#BT7\n",
    "a=float(input(\"nhập điểm: \"))\n",
    "if a>=8:\n",
    "    print(\"giỏi\")\n",
    "elif 6.5<=a<8:\n",
    "    print(\"khá\")\n",
    "elif 5<=a<6.5:\n",
    "    print(\"trung bình\")\n",
    "else:\n",
    "    print(\"yếu\")"
   ]
  },
  {
   "cell_type": "code",
   "execution_count": 27,
   "id": "7ef6daaf-d513-4bce-a7fe-427bc3616f68",
   "metadata": {},
   "outputs": [
    {
     "name": "stdin",
     "output_type": "stream",
     "text": [
      "nhập năm:  2024\n"
     ]
    },
    {
     "name": "stdout",
     "output_type": "stream",
     "text": [
      "đây là năm nhuận\n"
     ]
    }
   ],
   "source": [
    "#BT8\n",
    "a=int(input(\"nhập năm: \"))\n",
    "if a%400==0 or (a%4==0 and a%100!=0):\n",
    "    print(\"đây là năm nhuận\")\n",
    "else:\n",
    "    print(\"không\")"
   ]
  },
  {
   "cell_type": "code",
   "execution_count": 30,
   "id": "64eb75b2-c4a0-4e07-9ba0-a1823c6409ff",
   "metadata": {},
   "outputs": [
    {
     "name": "stdin",
     "output_type": "stream",
     "text": [
      "nhập số nguyên từ 0-9: 4\n"
     ]
    },
    {
     "name": "stdout",
     "output_type": "stream",
     "text": [
      "Bốn\n"
     ]
    }
   ],
   "source": [
    "#BT9\n",
    "a=int(input(\"nhập số nguyên từ 0-9:\"))\n",
    "match a:\n",
    "    case 0:\n",
    "         print(\"Không\")\n",
    "    case 1:\n",
    "        print(\"Một\")\n",
    "    case 2:\n",
    "        print(\"Hai\")\n",
    "    case 3:\n",
    "        print(\"Ba\")\n",
    "    case 4:\n",
    "        print(\"Bốn\")\n",
    "    case 5:\n",
    "       print(\"Năm\")\n",
    "    case 6:\n",
    "        print(\"Sáu\")\n",
    "    case 7:\n",
    "        print(\"Bảy\")\n",
    "    case 8:\n",
    "       print(\"Tám\")\n",
    "    case 9:\n",
    "        print(\"Chín\")"
   ]
  },
  {
   "cell_type": "code",
   "execution_count": 32,
   "id": "40c4a398-24d7-4b54-a2fc-2516378207a7",
   "metadata": {},
   "outputs": [
    {
     "name": "stdin",
     "output_type": "stream",
     "text": [
      "nhập điểm:  45\n"
     ]
    },
    {
     "name": "stdout",
     "output_type": "stream",
     "text": [
      "qua môn\n"
     ]
    }
   ],
   "source": [
    "#BT10\n",
    "a=float(input(\"nhập điểm: \"))\n",
    "if a>=4:\n",
    "    print(\"qua môn\")\n",
    "else:\n",
    "    print(\"học lại\")"
   ]
  },
  {
   "cell_type": "code",
   "execution_count": 34,
   "id": "24e469e0-b749-46e1-aaa3-4165c635237b",
   "metadata": {},
   "outputs": [
    {
     "name": "stdin",
     "output_type": "stream",
     "text": [
      "nhập năm:  2003\n"
     ]
    },
    {
     "name": "stdout",
     "output_type": "stream",
     "text": [
      "đủ\n"
     ]
    }
   ],
   "source": [
    "#BT11\n",
    "a=int(input(\"nhập năm: \"))\n",
    "if 2025-a>=18:\n",
    "    print(\"đủ\")\n",
    "else:\n",
    "    print(\"không\")"
   ]
  },
  {
   "cell_type": "code",
   "execution_count": null,
   "id": "b43d9f3a-3cf5-4d11-8df5-a6c49a6ba87f",
   "metadata": {},
   "outputs": [],
   "source": []
  }
 ],
 "metadata": {
  "kernelspec": {
   "display_name": "Python 3 (ipykernel)",
   "language": "python",
   "name": "python3"
  },
  "language_info": {
   "codemirror_mode": {
    "name": "ipython",
    "version": 3
   },
   "file_extension": ".py",
   "mimetype": "text/x-python",
   "name": "python",
   "nbconvert_exporter": "python",
   "pygments_lexer": "ipython3",
   "version": "3.13.5"
  }
 },
 "nbformat": 4,
 "nbformat_minor": 5
}
