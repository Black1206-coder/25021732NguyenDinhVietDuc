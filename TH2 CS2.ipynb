{
 "cells": [
  {
   "cell_type": "code",
   "execution_count": 2,
   "id": "5895155d-dfdf-4a6a-9e0a-55a549e1506e",
   "metadata": {},
   "outputs": [
    {
     "name": "stdout",
     "output_type": "stream",
     "text": [
      "Hello World!\n"
     ]
    }
   ],
   "source": [
    "#W2A1\n",
    "print (\"Hello World!\")\n"
   ]
  },
  {
   "cell_type": "code",
   "execution_count": 3,
   "id": "93a84249-1c11-426b-bdb1-be7d0ad292d7",
   "metadata": {},
   "outputs": [
    {
     "name": "stdin",
     "output_type": "stream",
     "text": [
      "Nhập tên bạn:  Việt ĐỨc\n"
     ]
    },
    {
     "name": "stdout",
     "output_type": "stream",
     "text": [
      "Xin chào:  Việt ĐỨc\n"
     ]
    }
   ],
   "source": [
    "#W2A2\n",
    "name=input(\"Nhập tên bạn: \")\n",
    "print(\"Xin chào: \", name)\n"
   ]
  },
  {
   "cell_type": "code",
   "execution_count": 5,
   "id": "51862b8e-bb1a-4a06-a6a8-dad0ed34fd56",
   "metadata": {},
   "outputs": [
    {
     "name": "stdin",
     "output_type": "stream",
     "text": [
      "nhập số thứ nhất:  7\n",
      "nhập số thứ hai:  3\n"
     ]
    },
    {
     "name": "stdout",
     "output_type": "stream",
     "text": [
      "tong: 10\n",
      "hieu: 4\n",
      "tich: 21\n",
      "nguyen: 2\n",
      "du: 1\n",
      "thương: 2.33\n"
     ]
    }
   ],
   "source": [
    "#W2A3\n",
    "a=int(input(\"nhập số thứ nhất: \"))\n",
    "b=int(input(\"nhập số thứ hai: \"))\n",
    "tong=a+b\n",
    "hieu=a-b\n",
    "tich=a*b\n",
    "phan_nguyen=a//b\n",
    "phan_du=a%b\n",
    "chia= round(a/b,2)  #round(pheptinh, số) làm tròn đến số thập phân thứ bao nhiêu hoặc pheptinh:.(số cần)f\n",
    "print(\"tong:\", tong)\n",
    "print(\"hieu:\", hieu)\n",
    "print(\"tich:\", tich)\n",
    "print(\"nguyen:\", phan_nguyen)\n",
    "print(\"du:\", phan_du)\n",
    "print(\"thương:\", chia)"
   ]
  },
  {
   "cell_type": "code",
   "execution_count": 9,
   "id": "d611d00b-8c12-456a-9d33-80d9c2c5b429",
   "metadata": {},
   "outputs": [
    {
     "name": "stdin",
     "output_type": "stream",
     "text": [
      "nhập các đầu điểm:  1 2 3 4 5 6\n"
     ]
    },
    {
     "name": "stdout",
     "output_type": "stream",
     "text": [
      "Điểm TB:  4.2\n"
     ]
    }
   ],
   "source": [
    "#W2A4\n",
    "a1,b1,c1,a2,b2,a3=map(int,input(\"nhập các đầu điểm: \").split( ))\n",
    "TB=round(((a1+b1+c1)+(a2+b2)*2+a3*3)/10,1) \n",
    "print(\"Điểm TB: \", TB)"
   ]
  },
  {
   "cell_type": "code",
   "execution_count": 10,
   "id": "d74f183e-89e3-44fe-92d1-19eb14511c83",
   "metadata": {},
   "outputs": [
    {
     "name": "stdin",
     "output_type": "stream",
     "text": [
      " 2 3\n"
     ]
    },
    {
     "name": "stdout",
     "output_type": "stream",
     "text": [
      "Lũy thừa:  8\n"
     ]
    }
   ],
   "source": [
    "#W2A5\n",
    "a,b=map(int,input().split( ))\n",
    "luy_thua=a**b\n",
    "print(\"Lũy thừa: \", luy_thua)"
   ]
  },
  {
   "cell_type": "code",
   "execution_count": 8,
   "id": "8a27c6bc-a409-4cc9-8433-3d23bf55931a",
   "metadata": {},
   "outputs": [
    {
     "name": "stdin",
     "output_type": "stream",
     "text": [
      "nhập chuỗi:  b\n"
     ]
    },
    {
     "name": "stdout",
     "output_type": "stream",
     "text": [
      "98\n"
     ]
    }
   ],
   "source": [
    "#W2A6\n",
    "chu_cai=str(input(\"nhập chuỗi: \"))\n",
    "a=ord(chu_cai)\n",
    "print(a)\n",
    "#b=chr(a).upper()    #tenbien.upper() là biến thường thành hoa\n",
    "#print(b)\n",
    "\n",
    "\n",
    "#cách 2\n",
    "#c=chr(ord(chu_cai)-32)   #ord: biến chữ thành số ở vị trí tương ứng    #chr biến số thành chữ ở vị trí tương ứng\n",
    "#print(c)\n",
    "\n",
    "\n",
    "\n",
    "            "
   ]
  },
  {
   "cell_type": "code",
   "execution_count": 21,
   "id": "3d797f16-e9ff-4b8d-a426-faa1766fea4e",
   "metadata": {},
   "outputs": [
    {
     "name": "stdout",
     "output_type": "stream",
     "text": [
      "512\n",
      "512\n"
     ]
    }
   ],
   "source": [
    "#W2A7\n",
    "A = ((13 ** 2) * 3) + 5 \n",
    "B = 13**2*3 + 5 \n",
    "print(A)\n",
    "print(B)"
   ]
  },
  {
   "cell_type": "code",
   "execution_count": null,
   "id": "1ffa9fe8-f355-45df-8095-10e55098e365",
   "metadata": {},
   "outputs": [],
   "source": [
    "#W2A8\n",
    "Do_C=float(input(\"nhập độ C: \"))\n",
    "Do_F=round((9/5*Do_C)+32,2)\n",
    "print(\"độ F= \", Do_F)\n",
    "\n",
    "\n"
   ]
  },
  {
   "cell_type": "code",
   "execution_count": 2,
   "id": "d4154e13-107d-42df-95b7-eb10d63be3ab",
   "metadata": {},
   "outputs": [
    {
     "name": "stdin",
     "output_type": "stream",
     "text": [
      "nhập tiền:  9000\n"
     ]
    },
    {
     "name": "stdout",
     "output_type": "stream",
     "text": [
      "Số tiền phải trả là:  12610.0\n"
     ]
    }
   ],
   "source": [
    "#W2A9\n",
    "x=int(input(\"nhập tiền: \"))\n",
    "S=x+(x*(40/100))+10\n",
    "print(\"Số tiền phải trả là: \", S)\n"
   ]
  },
  {
   "cell_type": "code",
   "execution_count": 20,
   "id": "d898f943-54ee-4b9e-8054-48790c784ea6",
   "metadata": {},
   "outputs": [
    {
     "name": "stdin",
     "output_type": "stream",
     "text": [
      "NHẬP TÊN Nam Bình An\n"
     ]
    },
    {
     "name": "stdout",
     "output_type": "stream",
     "text": [
      "Hi An , Bình and Nam\n"
     ]
    }
   ],
   "source": [
    "#W2A10\n",
    "a,b,c=input(\"NHẬP TÊN\").split()\n",
    "print(\"Hi\" , c,\",\", b, \"and\", a)"
   ]
  },
  {
   "cell_type": "code",
   "execution_count": 23,
   "id": "e4a48a9d-511c-41ca-92e1-d5705cc1c45a",
   "metadata": {},
   "outputs": [
    {
     "name": "stdin",
     "output_type": "stream",
     "text": [
      "Nhập số h:  24\n",
      "nhập số ph:  0\n"
     ]
    },
    {
     "name": "stdout",
     "output_type": "stream",
     "text": [
      "giờ+phút=:  86400\n"
     ]
    }
   ],
   "source": [
    "#W2A11\n",
    "h=int(input(\"Nhập số h: \"))\n",
    "m=int(input(\"nhập số ph: \"))\n",
    "s=(h*3600)+(m*60)\n",
    "print(\"giờ+phút=: \", s)"
   ]
  },
  {
   "cell_type": "code",
   "execution_count": 28,
   "id": "c0a7a4e4-6e73-4a13-89a7-cbbf51948d1c",
   "metadata": {},
   "outputs": [
    {
     "name": "stdin",
     "output_type": "stream",
     "text": [
      "nhập độ dài cạnh:  4\n"
     ]
    },
    {
     "name": "stdout",
     "output_type": "stream",
     "text": [
      "số miếng dán cần là:  96\n"
     ]
    }
   ],
   "source": [
    "#W2A12\n",
    "n=int(input(\"nhập độ dài cạnh: \"))\n",
    "#giả sử miếng dán hình vuông có diện tích=1\n",
    "number=6*n**2\n",
    "print(\"số miếng dán cần là: \", number)\n"
   ]
  },
  {
   "cell_type": "code",
   "execution_count": 30,
   "id": "3945cc5c-3dea-4cb8-9da8-08540d713bba",
   "metadata": {},
   "outputs": [
    {
     "name": "stdin",
     "output_type": "stream",
     "text": [
      "nhập số nguyên dương:  4\n",
      "nhập số nguyên dương:  87\n"
     ]
    },
    {
     "name": "stdout",
     "output_type": "stream",
     "text": [
      " phần dơn vị:  8\n"
     ]
    }
   ],
   "source": [
    "#W2A13\n",
    "a=int(input(\"nhập số nguyên dương: \"))\n",
    "b=int(input(\"nhập số nguyên dương: \"))\n",
    "s=a*b\n",
    "du=s%10\n",
    "print(\" phần dơn vị: \", du)\n"
   ]
  },
  {
   "cell_type": "code",
   "execution_count": 33,
   "id": "767fd8d5-20d2-471e-979a-f9cf1fe182f5",
   "metadata": {},
   "outputs": [
    {
     "name": "stdin",
     "output_type": "stream",
     "text": [
      " nhập số:  123\n",
      " nhập số:  958\n"
     ]
    },
    {
     "name": "stdout",
     "output_type": "stream",
     "text": [
      "a= 958 b= 123\n"
     ]
    }
   ],
   "source": [
    "#W2A14\n",
    "a=int(input(\" nhập số: \"))\n",
    "b=int(input(\" nhập số: \"))\n",
    "a,b=b,a\n",
    "print(\"a=\", a, \"b=\", b)"
   ]
  },
  {
   "cell_type": "code",
   "execution_count": 34,
   "id": "86a35284-ddc5-41ec-9fec-bd0660b702b2",
   "metadata": {},
   "outputs": [
    {
     "name": "stdin",
     "output_type": "stream",
     "text": [
      "nhập số nguyên dương:  6\n"
     ]
    },
    {
     "name": "stdout",
     "output_type": "stream",
     "text": [
      "số sao:  181\n"
     ]
    }
   ],
   "source": [
    "#W2A15\n",
    "n=int(input(\"nhập số nguyên dương: \"))\n",
    "so_sao=6*n*(n-1) + 1\n",
    "print(\"số sao: \", so_sao)"
   ]
  },
  {
   "cell_type": "code",
   "execution_count": 35,
   "id": "caa800e5-7599-494f-b07c-20bf596b5173",
   "metadata": {},
   "outputs": [
    {
     "name": "stdout",
     "output_type": "stream",
     "text": [
      "Spring\n",
      "Summer\n",
      "Fall\n",
      "Winter\n"
     ]
    }
   ],
   "source": [
    "#W2A16\n",
    "print(\"Spring\\nSummer\\nFall\\nWinter\")"
   ]
  },
  {
   "cell_type": "code",
   "execution_count": 36,
   "id": "74a46c64-b036-4d29-8bc6-18d1035d1885",
   "metadata": {},
   "outputs": [
    {
     "name": "stdout",
     "output_type": "stream",
     "text": [
      "*\n",
      "***\n",
      "*****\n"
     ]
    }
   ],
   "source": [
    "#W2A17\n",
    "print(\"*\\n***\\n*****\")"
   ]
  },
  {
   "cell_type": "code",
   "execution_count": 37,
   "id": "1b1a0917-9427-4b07-a4af-22269a3d8325",
   "metadata": {},
   "outputs": [
    {
     "name": "stdout",
     "output_type": "stream",
     "text": [
      "### ##  ### ###\n",
      " #  # #  #   #\n",
      " #  #  # #   #\n",
      " #  # #  #   #\n"
     ]
    }
   ],
   "source": [
    "#W2A18\n",
    "print(\"### ##  ### ###\")\n",
    "print(\" #  # #  #   #\")\n",
    "print(\" #  #  # #   #\")\n",
    "print(\" #  # #  #   #\")"
   ]
  },
  {
   "cell_type": "code",
   "execution_count": 38,
   "id": "6e34bf11-e539-484c-be9f-ea3baabff224",
   "metadata": {},
   "outputs": [
    {
     "name": "stdout",
     "output_type": "stream",
     "text": [
      "Monday\n",
      "Tuesday\n",
      "Wednesday\n",
      "Thursday\n",
      "Friday\n",
      "Saturday\n",
      "Sunday\n"
     ]
    }
   ],
   "source": [
    "#W2A19\n",
    "print(\"Monday\\nTuesday\\nWednesday\\nThursday\\nFriday\\nSaturday\\nSunday\")"
   ]
  },
  {
   "cell_type": "code",
   "execution_count": 39,
   "id": "bebb00dc-3e0d-4800-af37-c23fd972a3b8",
   "metadata": {},
   "outputs": [
    {
     "name": "stdout",
     "output_type": "stream",
     "text": [
      "January\n",
      "February\n",
      "March\n",
      "April\n",
      "May\n",
      "June\n",
      "July\n",
      "August\n",
      "September\n",
      "October\n",
      "November\n",
      "December\n"
     ]
    }
   ],
   "source": [
    "#W2A20\n",
    "print(\"January\\nFebruary\\nMarch\\nApril\\nMay\\nJune\\nJuly\\nAugust\\nSeptember\\nOctober\\nNovember\\nDecember\")"
   ]
  },
  {
   "cell_type": "code",
   "execution_count": 41,
   "id": "fd485382-ba46-4349-81ce-ef88c1773e04",
   "metadata": {},
   "outputs": [
    {
     "name": "stdout",
     "output_type": "stream",
     "text": [
      "Hello, world\n",
      "Hello, world\n",
      "Hello, world\n",
      "Hello, world\n",
      "Hello, world\n",
      "Hello, world\n",
      "Hello, world\n",
      "Hello, world\n",
      "Hello, world\n",
      "Hello, world\n"
     ]
    }
   ],
   "source": [
    "#W2A21\n",
    "for i in range(10):\n",
    "    print(\"Hello, world\")"
   ]
  },
  {
   "cell_type": "code",
   "execution_count": null,
   "id": "9617aa3d-661b-43b5-aec6-3f00dee6675e",
   "metadata": {},
   "outputs": [],
   "source": []
  }
 ],
 "metadata": {
  "kernelspec": {
   "display_name": "Python 3 (ipykernel)",
   "language": "python",
   "name": "python3"
  },
  "language_info": {
   "codemirror_mode": {
    "name": "ipython",
    "version": 3
   },
   "file_extension": ".py",
   "mimetype": "text/x-python",
   "name": "python",
   "nbconvert_exporter": "python",
   "pygments_lexer": "ipython3",
   "version": "3.13.5"
  }
 },
 "nbformat": 4,
 "nbformat_minor": 5
}
