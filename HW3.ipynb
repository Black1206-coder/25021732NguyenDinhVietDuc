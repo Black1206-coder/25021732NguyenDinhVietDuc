{
 "cells": [
  {
   "cell_type": "code",
   "execution_count": 2,
   "id": "3e94b9cd-bc3b-4248-828d-01c9d2d1b922",
   "metadata": {},
   "outputs": [
    {
     "name": "stdin",
     "output_type": "stream",
     "text": [
      " 5 10\n"
     ]
    },
    {
     "name": "stdout",
     "output_type": "stream",
     "text": [
      "10 5\n"
     ]
    }
   ],
   "source": [
    "#W3A2\n",
    "a,b=map(int,input().split())\n",
    "a=a^b     #Hoán đổi hai số mà không dùng biến tạm:(dùng phép toán xor)\n",
    "                            #a = a ^ b\n",
    "                            #b = a ^ b\n",
    "                            #a = a ^ b\n",
    "b=a^b\n",
    "a=a^b\n",
    "print(a,b)"
   ]
  },
  {
   "cell_type": "code",
   "execution_count": 5,
   "id": "37d3c279-fa14-44c0-aa8f-3059ed531954",
   "metadata": {},
   "outputs": [
    {
     "name": "stdin",
     "output_type": "stream",
     "text": [
      "nhập 1 số:  1050\n"
     ]
    },
    {
     "name": "stdout",
     "output_type": "stream",
     "text": [
      "không\n"
     ]
    }
   ],
   "source": [
    "#W3A3\n",
    "n=int(input(\"nhập 1 số: \"))\n",
    "if n & (n-1) ==0:   #a&b nếu bit của từng số cùng là 1 thì là 1 1 trong 2 cái hoặc cả 2 khác 1 thì là 0\n",
    "    print(\"đây là lũy thừa của 2\")\n",
    "else:\n",
    "    print(\"không\")"
   ]
  },
  {
   "cell_type": "code",
   "execution_count": 6,
   "id": "935246bb-7cad-4122-b4b1-57a064925e38",
   "metadata": {},
   "outputs": [
    {
     "name": "stdin",
     "output_type": "stream",
     "text": [
      "nhập 2 số:  7 2\n"
     ]
    },
    {
     "name": "stdout",
     "output_type": "stream",
     "text": [
      "3\n"
     ]
    }
   ],
   "source": [
    "#W3A4 \n",
    "m,n=map(int,input(\"nhập 2 số: \").split())\n",
    "kq=m//n\n",
    "print(kq)"
   ]
  },
  {
   "cell_type": "code",
   "execution_count": 7,
   "id": "6cefe54b-9c68-4490-98a7-ad20459a8fc9",
   "metadata": {},
   "outputs": [
    {
     "name": "stdin",
     "output_type": "stream",
     "text": [
      "nhập 2 số:  5 3\n"
     ]
    },
    {
     "name": "stdout",
     "output_type": "stream",
     "text": [
      "2\n"
     ]
    }
   ],
   "source": [
    "#W3A5 (2 số dương)\n",
    "m,n=map(int,input(\"nhập 2 số: \").split())\n",
    "kq=m//n+1\n",
    "print(kq)"
   ]
  },
  {
   "cell_type": "code",
   "execution_count": 1,
   "id": "609ef751-823a-4ee5-8336-4680c1717383",
   "metadata": {},
   "outputs": [
    {
     "name": "stdin",
     "output_type": "stream",
     "text": [
      "nhập số nguyên dương:  2\n"
     ]
    },
    {
     "name": "stdout",
     "output_type": "stream",
     "text": [
      "Even\n"
     ]
    }
   ],
   "source": [
    "#W3A6\n",
    "x=int(input(\"nhập số nguyên dương: \"))\n",
    "if x%2==0:\n",
    "    print(\"Even\")\n",
    "else:\n",
    "    print(\"Odd\")\n"
   ]
  },
  {
   "cell_type": "code",
   "execution_count": 3,
   "id": "665d235a-2737-4a00-adb5-4014675099c2",
   "metadata": {},
   "outputs": [
    {
     "name": "stdin",
     "output_type": "stream",
     "text": [
      "nhập 2 số a b  -9 -10\n"
     ]
    },
    {
     "name": "stdout",
     "output_type": "stream",
     "text": [
      "yes\n"
     ]
    }
   ],
   "source": [
    "#W3A7\n",
    "a,b=map(int,input(\"nhập 2 số a b \").split())\n",
    "if a and b <0:\n",
    "    print(\"yes\")\n",
    "else:\n",
    "    print(\"no\")"
   ]
  },
  {
   "cell_type": "code",
   "execution_count": 4,
   "id": "405c38f5-3661-49c3-86ce-dc28e4995990",
   "metadata": {},
   "outputs": [
    {
     "name": "stdin",
     "output_type": "stream",
     "text": [
      "nhập chuỗi: zxcvbnm\n",
      "nhập chuỗi: ghj\n"
     ]
    },
    {
     "name": "stdout",
     "output_type": "stream",
     "text": [
      "True\n"
     ]
    }
   ],
   "source": [
    "#W3A8\n",
    "a=input(\"nhập chuỗi:\")\n",
    "b=input(\"nhập chuỗi:\")\n",
    "#bảng mã ASCII\n",
    "if 97<=ord(a) and ord(b)<=122:\n",
    "    if len(a)>len(b):\n",
    "        print(True)\n",
    "    else:\n",
    "        print(False)\n",
    "else:\n",
    "     print(\"không xử lí\")\n",
    "    "
   ]
  },
  {
   "cell_type": "code",
   "execution_count": 7,
   "id": "7349e4ed-1020-47be-b621-f4ed0bae68f2",
   "metadata": {},
   "outputs": [
    {
     "name": "stdin",
     "output_type": "stream",
     "text": [
      "nhập 3 số nguyên:  1 4 6\n"
     ]
    },
    {
     "name": "stdout",
     "output_type": "stream",
     "text": [
      "Yes\n"
     ]
    }
   ],
   "source": [
    "#W3A9\n",
    "a,b,c=map(int,input(\"nhập 3 số nguyên: \").split())\n",
    "if a+b>c or a+c>b or b+c>a:\n",
    "    print(\"Yes\")\n",
    "else:\n",
    "    print(\"No\")"
   ]
  },
  {
   "cell_type": "code",
   "execution_count": 9,
   "id": "25f787cd-99e2-426a-9a3c-3a57f3bde1d0",
   "metadata": {},
   "outputs": [
    {
     "name": "stdin",
     "output_type": "stream",
     "text": [
      "nhập 4 số nguyen:  12 06 09 26\n"
     ]
    },
    {
     "name": "stdout",
     "output_type": "stream",
     "text": [
      "26\n"
     ]
    }
   ],
   "source": [
    "#W3A10\n",
    "a,b,c,d=map(int,input(\"nhập 4 số nguyen: \").split())\n",
    "if a> (c and b and d):\n",
    "    print(a)\n",
    "elif b> (a and c and d):\n",
    "    print(b)\n",
    "elif c> (a and b and d):\n",
    "    print(c)\n",
    "elif d> (a and b and c):\n",
    "    print(d)\n"
   ]
  },
  {
   "cell_type": "code",
   "execution_count": 10,
   "id": "5200947a-abfb-474c-8e1c-c262c03b04ff",
   "metadata": {},
   "outputs": [
    {
     "name": "stdin",
     "output_type": "stream",
     "text": [
      " nhập độ dài 3 cạnh theo thứ tự:  1 2 3\n"
     ]
    },
    {
     "name": "stdout",
     "output_type": "stream",
     "text": [
      "đây không phải tam giác\n"
     ]
    },
    {
     "name": "stdin",
     "output_type": "stream",
     "text": [
      " nhập độ dài 3 cạnh theo thứ tự:  3 4 5\n"
     ]
    },
    {
     "name": "stdout",
     "output_type": "stream",
     "text": [
      "đây là tam giác thương\n"
     ]
    }
   ],
   "source": [
    "#W3A11\n",
    "a,b,c=map(int,input(\" nhập độ dài 3 cạnh theo thứ tự: \").split())\n",
    "if a+b<=c or b+c<=a or a+c<=b:\n",
    "    print(\"đây không phải tam giác\")\n",
    "    a,b,c=map(int,input(\" nhập độ dài 3 cạnh theo thứ tự: \").split())\n",
    "if a+b>c and b+c>a and a+c>b:\n",
    "    if a==b==c:\n",
    "        print(\"đây là tam giác đều\")\n",
    "    elif a==b!=c or a!=b==c or a==c!=b:\n",
    "        print(\"đây là tam giác cân\")\n",
    "    else:\n",
    "        print(\"đây là tam giác thương\")"
   ]
  },
  {
   "cell_type": "code",
   "execution_count": 11,
   "id": "acdb8874-5c7b-4ddc-8fba-fc05a11a4cbc",
   "metadata": {},
   "outputs": [
    {
     "name": "stdin",
     "output_type": "stream",
     "text": [
      "nhập năm:  2022\n"
     ]
    },
    {
     "name": "stdout",
     "output_type": "stream",
     "text": [
      "không\n"
     ]
    }
   ],
   "source": [
    "#W3A12\n",
    "n=int(input(\"nhập năm: \"))\n",
    "if n%400==0 or (n%4==0 and n%100!=0):\n",
    "    print(\"đây là năm nhuận\")\n",
    "else:\n",
    "    print(\"không\")"
   ]
  },
  {
   "cell_type": "code",
   "execution_count": 12,
   "id": "52f61e46-1dea-4186-a82e-33780be083e0",
   "metadata": {},
   "outputs": [
    {
     "name": "stdin",
     "output_type": "stream",
     "text": [
      "nhập 2 số a b: 12 06\n"
     ]
    },
    {
     "name": "stdout",
     "output_type": "stream",
     "text": [
      "nghiệm của phương trình là: x= -0.5\n"
     ]
    }
   ],
   "source": [
    "#W3A14\n",
    "a,b=map(float,input(\"nhập 2 số a b:\").split())\n",
    "if a==0:\n",
    "    print(\"phương trình vô nghiệm\")\n",
    "else:\n",
    "    print(\"nghiệm của phương trình là: x=\", round(-b/a,2))"
   ]
  },
  {
   "cell_type": "code",
   "execution_count": 13,
   "id": "765f4964-455f-4302-a928-0e2012650df5",
   "metadata": {},
   "outputs": [
    {
     "name": "stdin",
     "output_type": "stream",
     "text": [
      "nhập điểm:  10\n"
     ]
    },
    {
     "name": "stdout",
     "output_type": "stream",
     "text": [
      "giỏi\n"
     ]
    }
   ],
   "source": [
    "#W3A15\n",
    "#BT7\n",
    "a=float(input(\"nhập điểm: \"))\n",
    "if a>=8:\n",
    "    print(\"giỏi\")\n",
    "elif 6.5<=a<8:\n",
    "    print(\"khá\")\n",
    "elif 5<=a<6.5:\n",
    "    print(\"trung bình\")\n",
    "else:\n",
    "    print(\"yếu\")"
   ]
  },
  {
   "cell_type": "code",
   "execution_count": 15,
   "id": "8e80d8c8-ce2f-408a-ab96-766eac234866",
   "metadata": {},
   "outputs": [
    {
     "name": "stdin",
     "output_type": "stream",
     "text": [
      "Nhập vào một số thực:  -3.8\n"
     ]
    },
    {
     "name": "stdout",
     "output_type": "stream",
     "text": [
      "-4 -3 -4\n"
     ]
    }
   ],
   "source": [
    "#W3A16\n",
    "x=float(input(\"Nhập vào một số thực: \"))\n",
    "#làm tròn xuống\n",
    "if x >= 0:\n",
    "    a=int(x)\n",
    "else:\n",
    "    if x==int(x):\n",
    "        a=int(x)\n",
    "    else:\n",
    "        a=int(x) - 1\n",
    "#Làm tròn lên\n",
    "if x==int(x):\n",
    "    b= nt(x)\n",
    "else:\n",
    "    if x>0:\n",
    "        b=int(x)+1\n",
    "    else:\n",
    "        b=int(x)\n",
    "#làm tròn đến số nguyen gần nhất\n",
    "if x>=0:\n",
    "    if x-int(x)<0.5:\n",
    "        c=int(x)\n",
    "    else:\n",
    "        c=int(x)+1\n",
    "else:\n",
    "    if abs(x-int(x))<0.5:\n",
    "        c=int(x)\n",
    "    else:\n",
    "        c=int(x)-1\n",
    "print(a,b,c)"
   ]
  },
  {
   "cell_type": "code",
   "execution_count": 18,
   "id": "11ba0f16-61ae-4991-8492-b2dff685819f",
   "metadata": {},
   "outputs": [
    {
     "name": "stdin",
     "output_type": "stream",
     "text": [
      "nhập các số theo thứ tự:  2 4 8 16\n"
     ]
    },
    {
     "name": "stdout",
     "output_type": "stream",
     "text": [
      "đây là 1 csn\n"
     ]
    }
   ],
   "source": [
    "#W3A17\n",
    "a,b,c,d=map(float,input(\"nhập các số theo thứ tự: \").split())\n",
    "if b%a==0:\n",
    "    if b*(b/a)==c:\n",
    "        if c*(b/a)==d:\n",
    "            print(\"đây là 1 csn\")\n",
    "        else:\n",
    "            print(\"không phải\")\n",
    "    else:\n",
    "        print(\"không phải\")\n",
    "else:\n",
    "    print(\"không phải\")"
   ]
  },
  {
   "cell_type": "code",
   "execution_count": null,
   "id": "2edc4a4e-fd83-45de-8f23-9c47785d0059",
   "metadata": {},
   "outputs": [],
   "source": []
  }
 ],
 "metadata": {
  "kernelspec": {
   "display_name": "Python 3 (ipykernel)",
   "language": "python",
   "name": "python3"
  },
  "language_info": {
   "codemirror_mode": {
    "name": "ipython",
    "version": 3
   },
   "file_extension": ".py",
   "mimetype": "text/x-python",
   "name": "python",
   "nbconvert_exporter": "python",
   "pygments_lexer": "ipython3",
   "version": "3.13.5"
  }
 },
 "nbformat": 4,
 "nbformat_minor": 5
}
