{
 "cells": [
  {
   "cell_type": "code",
   "execution_count": 1,
   "id": "8f481709-c921-4ebf-858d-41d361fa540c",
   "metadata": {},
   "outputs": [
    {
     "name": "stdin",
     "output_type": "stream",
     "text": [
      "nhập độ dài hcn:  3 4\n"
     ]
    },
    {
     "name": "stdout",
     "output_type": "stream",
     "text": [
      "chu vi: 14\n",
      "dien tich:  12\n"
     ]
    }
   ],
   "source": [
    "#HW1\n",
    "a,b=map(int,input(\"nhập độ dài hcn: \").split())\n",
    "s=a*b\n",
    "c=(a+b)*2\n",
    "print(\"chu vi:\", c)\n",
    "print(\"dien tich: \", s)"
   ]
  },
  {
   "cell_type": "code",
   "execution_count": 2,
   "id": "71064f8d-89ce-4e9d-8e6b-3597a824cb72",
   "metadata": {},
   "outputs": [
    {
     "name": "stdin",
     "output_type": "stream",
     "text": [
      "nhập bán kính:  6\n"
     ]
    },
    {
     "name": "stdout",
     "output_type": "stream",
     "text": [
      "chu vi: 37.68\n",
      "dien tich 113.04\n"
     ]
    }
   ],
   "source": [
    "#HW2\n",
    "r=int(input(\"nhập bán kính: \"))\n",
    "chuvi=r*2*3.14\n",
    "s=3.14*r**2\n",
    "print(\"chu vi:\", chuvi)\n",
    "print(\"dien tich\" , s)"
   ]
  },
  {
   "cell_type": "code",
   "execution_count": 10,
   "id": "708993db-63e0-4447-bcaf-d84104de18e7",
   "metadata": {},
   "outputs": [
    {
     "name": "stdin",
     "output_type": "stream",
     "text": [
      " nhập độ dài 3 cạnh theo thứ tự:  3 4 5\n"
     ]
    },
    {
     "name": "stdout",
     "output_type": "stream",
     "text": [
      "đây là tam giác vuông 6.0\n"
     ]
    }
   ],
   "source": [
    "#HW3\n",
    "import math\n",
    "a,b,c=map(int,input(\" nhập độ dài 3 cạnh theo thứ tự: \").split())\n",
    "if a+b<=c or b+c<=a or a+c<=b:\n",
    "    print(\"đây không phải tam giác\")\n",
    "    a,b,c=map(int,input(\" nhập độ dài 3 cạnh theo thứ tự: \").split())\n",
    "d=(a+b+c)/2\n",
    "if a+b>c and b+c>a and a+c>b:\n",
    "    if a==b==c:\n",
    "        print(\"đây là tam giác đều\", (a**2)*(math.sqrt(3)/4))\n",
    "    elif a==b!=c or a!=b==c or a==c!=b:\n",
    "        print(\"đây là tam giác cân\", math.sqrt(d*(d-a)*(d-b)*(d-c)))\n",
    "    elif a**2+b**2==c**2 or a**2+c**2==b**2 or b**2+c**2==a**2:\n",
    "        print(\"đây là tam giác vuông\", math.sqrt(d*(d-a)*(d-b)*(d-c)))\n",
    "    else:\n",
    "        print(\"đây là tam giác thương\", math.sqrt(d*(d-a)*(d-b)*(d-c)))\n",
    "        "
   ]
  },
  {
   "cell_type": "markdown",
   "id": "48bbd37d-77d9-4078-a182-58899f5cdb38",
   "metadata": {},
   "source": []
  },
  {
   "cell_type": "code",
   "execution_count": 13,
   "id": "e5d01a2c-8aac-432b-82d1-9c964206d479",
   "metadata": {},
   "outputs": [
    {
     "name": "stdin",
     "output_type": "stream",
     "text": [
      "nhập 2 số a b: 3 5\n"
     ]
    },
    {
     "name": "stdout",
     "output_type": "stream",
     "text": [
      "nghiệm của phương trình là: x= -1.67\n"
     ]
    }
   ],
   "source": [
    "#HW4 giải phương trình bậc nhất\n",
    "a,b=map(float,input(\"nhập 2 số a b:\").split())\n",
    "if a==0:\n",
    "    print(\"phương trình vô nghiệm\")\n",
    "else:\n",
    "    print(\"nghiệm của phương trình là: x=\", round(-b/a,2))\n",
    "    \n"
   ]
  },
  {
   "cell_type": "code",
   "execution_count": 15,
   "id": "f2f5f12d-9ef7-45d6-b205-a53461d91b9a",
   "metadata": {},
   "outputs": [
    {
     "name": "stdin",
     "output_type": "stream",
     "text": [
      "nhập 3 hệ số:  1 2 1\n"
     ]
    },
    {
     "name": "stdout",
     "output_type": "stream",
     "text": [
      "phương trình có nghiệm kép x= -1.0\n"
     ]
    }
   ],
   "source": [
    "#HW5 giải pt bậc hai\n",
    "import math\n",
    "a,b,c=map(float,input(\"nhập 3 hệ số: \").split())\n",
    "delta=b**2-4*a*c\n",
    "if a==0:\n",
    "    if b==0:\n",
    "        print(\"phương trình vô nghiệm\")\n",
    "    else:\n",
    "        print(\"nghiệm của phương trình là: x=\", round(-c/b,2))\n",
    "else:\n",
    "    if delta<0:\n",
    "        print(\"phươn trình vô ngiệm\")\n",
    "    elif delta==0:\n",
    "        print(\"phương trình có nghiệm kép x=\", -b/(2*a))\n",
    "    else:\n",
    "        print(\"phương trình có 2 nghiệm phân biệt: \", (-b+math.sqrt(delta))/(2*a), (-b-math.sqrt(delta))/(2*a))\n",
    "    "
   ]
  },
  {
   "cell_type": "code",
   "execution_count": 17,
   "id": "00bdd6cd-fe47-482f-b899-a67c5d979ea5",
   "metadata": {},
   "outputs": [
    {
     "name": "stdin",
     "output_type": "stream",
     "text": [
      " 1 4 8 2\n"
     ]
    },
    {
     "name": "stdout",
     "output_type": "stream",
     "text": [
      "8\n",
      "8\n"
     ]
    }
   ],
   "source": [
    "#HW6 \n",
    "a,b,c,d=map(int,input().split())\n",
    "#max(a,b,c,d) tìm ra số lớn nhất trong dãy\n",
    "print(max(a,b,c,d))\n",
    "\n",
    "\n",
    "if a>b and a>c and a>d:\n",
    "    print(a)\n",
    "if b>a and b>c and b>d:\n",
    "    print(b)\n",
    "if c>a and c>b and c>d:\n",
    "    print(c)\n",
    "if d>a and d>c and d>b:\n",
    "    print(d)"
   ]
  },
  {
   "cell_type": "code",
   "execution_count": 20,
   "id": "bee2b7b1-ddab-481a-8a35-4b6d7b059584",
   "metadata": {},
   "outputs": [
    {
     "name": "stdin",
     "output_type": "stream",
     "text": [
      " 3 5 12 5623\n"
     ]
    },
    {
     "name": "stdout",
     "output_type": "stream",
     "text": [
      "3\n",
      "3\n"
     ]
    }
   ],
   "source": [
    "#HW7\n",
    "a,b,c,d=map(int,input().split())\n",
    "#max(a,b,c,d) tìm ra số lớn nhất trong dãy\n",
    "print(min(a,b,c,d))\n",
    "\n",
    "\n",
    "if a<b and a<c and a<d:\n",
    "    print(a)\n",
    "if b<a and b<c and b<d:\n",
    "    print(b)\n",
    "if c<a and c<b and c<d:\n",
    "    print(c)\n",
    "if d<a and d<c and d<b:\n",
    "    print(d)"
   ]
  },
  {
   "cell_type": "code",
   "execution_count": 3,
   "id": "b6267985-2c8f-4b67-958f-c6d565ead135",
   "metadata": {},
   "outputs": [
    {
     "name": "stdin",
     "output_type": "stream",
     "text": [
      "nhập các số theo thứ tự:  2 5 6 192 5 2\n"
     ]
    },
    {
     "name": "stdout",
     "output_type": "stream",
     "text": [
      "hệ có nghiệm duy nhất\n",
      "nghiệm hpt x= -0.021052631578947368 y= 1.2084210526315788\n"
     ]
    }
   ],
   "source": [
    "#HW8\n",
    "a,b,m,c,d,n=map(int,input(\"nhập các số theo thứ tự: \").split())\n",
    "A=a*d-b*c\n",
    "M=m*d-b*n\n",
    "N=a*n-m*c\n",
    "x=M/A\n",
    "y=N/A\n",
    "if A!=0:\n",
    "    print(\"hệ có nghiệm duy nhất\")\n",
    "    print(\"nghiệm hpt x=\",x,\"y=\",y)\n",
    "else:\n",
    "    print(\"phương trình vô nghiệm hoặc phương trình vô số nghiệm\")"
   ]
  },
  {
   "cell_type": "code",
   "execution_count": 5,
   "id": "e15c3ca6-acab-4971-8dd1-fb4e32f1642c",
   "metadata": {},
   "outputs": [
    {
     "name": "stdin",
     "output_type": "stream",
     "text": [
      "nhập số giây:  72800\n"
     ]
    },
    {
     "name": "stdout",
     "output_type": "stream",
     "text": [
      "số giờ: 20.22222222222222 số phút: 1213.3333333333333 số giấy: 72800\n"
     ]
    }
   ],
   "source": [
    "#HW9\n",
    "x=int(input(\"nhập số giây: \"))\n",
    "m=x/60\n",
    "h=x/3600\n",
    "print(\"số giờ:\",h,\"số phút:\",m,\"số giấy:\",x)"
   ]
  },
  {
   "cell_type": "code",
   "execution_count": 7,
   "id": "e0777edf-1e24-40bd-bd5d-ab81d67f8e99",
   "metadata": {},
   "outputs": [
    {
     "name": "stdin",
     "output_type": "stream",
     "text": [
      "nhập tọa độ tâm và bán kính:  1 2 9\n",
      "nhập tọa độ tâm và bán kính:  4 5\n"
     ]
    },
    {
     "name": "stdout",
     "output_type": "stream",
     "text": [
      "điểm A nằm trong đường tròn\n"
     ]
    }
   ],
   "source": [
    "#HW10\n",
    "a,b,r=map(float,input(\"nhập tọa độ tâm và bán kính: \").split())\n",
    "x,y=map(float,input(\"nhập tọa độ tâm và bán kính: \").split())\n",
    "if (a-x)**2+(b-y)**2<r**2:\n",
    "    print(\"điểm A nằm trong đường tròn\")\n",
    "elif (a-x)**2+(b-y)**2==r**2:\n",
    "    print(\"A nằm trên đường tròn\")\n",
    "else:\n",
    "    print(\"A nằm ngoài đường tròn\")"
   ]
  },
  {
   "cell_type": "code",
   "execution_count": 8,
   "id": "5ece770c-04eb-49dd-b90b-0fc44d98c047",
   "metadata": {},
   "outputs": [
    {
     "name": "stdin",
     "output_type": "stream",
     "text": [
      "nhập 2 số x y: 2 3\n"
     ]
    },
    {
     "name": "stdout",
     "output_type": "stream",
     "text": [
      "x**y= 8.0\n"
     ]
    }
   ],
   "source": [
    "#HW11\n",
    "x,y=map(float,input(\"nhập 2 số x y:\").split())\n",
    "a=x**y\n",
    "print(\"x**y=\",a)"
   ]
  },
  {
   "cell_type": "code",
   "execution_count": null,
   "id": "93cb7fc6-1efa-4e4f-92f0-4f0557effff7",
   "metadata": {},
   "outputs": [],
   "source": []
  }
 ],
 "metadata": {
  "kernelspec": {
   "display_name": "Python 3 (ipykernel)",
   "language": "python",
   "name": "python3"
  },
  "language_info": {
   "codemirror_mode": {
    "name": "ipython",
    "version": 3
   },
   "file_extension": ".py",
   "mimetype": "text/x-python",
   "name": "python",
   "nbconvert_exporter": "python",
   "pygments_lexer": "ipython3",
   "version": "3.13.5"
  }
 },
 "nbformat": 4,
 "nbformat_minor": 5
}
