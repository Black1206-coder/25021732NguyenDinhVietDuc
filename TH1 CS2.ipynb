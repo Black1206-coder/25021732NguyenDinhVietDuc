{
 "cells": [
  {
   "cell_type": "code",
   "execution_count": 19,
   "id": "c7c8dc97-4d8f-456a-8fb3-926aad074a02",
   "metadata": {},
   "outputs": [
    {
     "name": "stdout",
     "output_type": "stream",
     "text": [
      "2\n"
     ]
    }
   ],
   "source": [
    "#W1A1\n",
    "a=7\n",
    "b=5\n",
    "c=a-b\n",
    "print(c)\n"
   ]
  },
  {
   "cell_type": "code",
   "execution_count": 13,
   "id": "f909c1e8-2c31-4f1a-88d0-fb83ea92519f",
   "metadata": {},
   "outputs": [
    {
     "name": "stdout",
     "output_type": "stream",
     "text": [
      "Thành phố: Hà Nội -Năm: 2025\n"
     ]
    }
   ],
   "source": [
    "#W1A2\n",
    "city=\"Hà Nội\"\n",
    "year=2025\n",
    "print(\"Thành phố:\", city, \"-Năm:\", year)\n"
   ]
  },
  {
   "cell_type": "code",
   "execution_count": 22,
   "id": "d2ef4578-5315-4d89-b159-0a0388961020",
   "metadata": {},
   "outputs": [
    {
     "name": "stdout",
     "output_type": "stream",
     "text": [
      "10\n"
     ]
    }
   ],
   "source": [
    "#W1A3\n",
    "n=4\n",
    "t=0\n",
    "for i in range (1, n+1):\n",
    "    t+=i\n",
    "print (t)\n",
    "\n"
   ]
  },
  {
   "cell_type": "code",
   "execution_count": 23,
   "id": "85d6c46c-5abd-448b-a11e-58106eab8a28",
   "metadata": {},
   "outputs": [
    {
     "name": "stdout",
     "output_type": "stream",
     "text": [
      "1 là số lẻ\n",
      "2 là số chẵn\n",
      "3 là số lẻ\n",
      "4 là số chẵn\n"
     ]
    }
   ],
   "source": [
    "#W1A4\n",
    "numbers=[1,2,3,4]\n",
    "for x in numbers:\n",
    "    if x%2==0:\n",
    "        print (x,\"là số chẵn\")\n",
    "    else:\n",
    "        print (x,\"là số lẻ\")\n"
   ]
  },
  {
   "cell_type": "code",
   "execution_count": 24,
   "id": "1a93a26d-bd42-4eb3-8800-6d532a2a6c79",
   "metadata": {},
   "outputs": [
    {
     "name": "stdout",
     "output_type": "stream",
     "text": [
      " số phần tử trong danh sách là:  4\n"
     ]
    }
   ],
   "source": [
    "#W1A5\n",
    "animals=[\"cat\", \"dog\", \"cat\", \"bird\"]\n",
    "count=0\n",
    "for a in animals:\n",
    "    count+=1\n",
    "print (\" số phần tử trong danh sách là: \", count)\n"
   ]
  },
  {
   "cell_type": "code",
   "execution_count": 41,
   "id": "f052582f-ddd7-40b5-80c8-4cf266e4542c",
   "metadata": {},
   "outputs": [
    {
     "name": "stdout",
     "output_type": "stream",
     "text": [
      "===AI Prediction System===\n",
      "1) Sentiment analysis\n",
      "2) Weather forecast\n",
      "3) Exit\n",
      "Please choose an option:\n"
     ]
    }
   ],
   "source": [
    "#W1A6\n",
    "print (\"===AI Prediction System===\")\n",
    "print (\"1) Sentiment analysis\")\n",
    "print (\"2) Weather forecast\")\n",
    "print (\"3) Exit\")\n",
    "print (\"Please choose an option:\")"
   ]
  },
  {
   "cell_type": "code",
   "execution_count": 37,
   "id": "2a4f6468-6992-4f4b-983d-b9a4852f0bd5",
   "metadata": {},
   "outputs": [
    {
     "name": "stdin",
     "output_type": "stream",
     "text": [
      "Nhập số:  13\n"
     ]
    },
    {
     "name": "stdout",
     "output_type": "stream",
     "text": [
      "số lẻ\n"
     ]
    }
   ],
   "source": [
    "#W1A7\n",
    "#Lỗi 1: num%2=0 thiếu 1 dấu =\n",
    "#Lỗi 2: input là str\n",
    "#Lỗi 3: else thiếu:\n",
    "#Sửa\n",
    "num=int(input(\"Nhập số: \"))\n",
    "if num%2==0:\n",
    "    print(\"Số chẵn\")\n",
    "else:\n",
    "    print(\"số lẻ\" )\n"
   ]
  },
  {
   "cell_type": "code",
   "execution_count": 38,
   "id": "de415bb0-0c78-4041-be40-fea4c1da09e6",
   "metadata": {},
   "outputs": [
    {
     "name": "stdout",
     "output_type": "stream",
     "text": [
      "AI đang học lân 1\n",
      "AI đang học lân 2\n",
      "AI đang học lân 3\n",
      "Huấn luyện xong\n"
     ]
    }
   ],
   "source": [
    "#W1A8\n",
    "for i in range(3):\n",
    "    print(\"AI đang học lân\", i+1)\n",
    "print(\"Huấn luyện xong\")"
   ]
  },
  {
   "cell_type": "code",
   "execution_count": 39,
   "id": "9aa3d606-e494-49a7-8532-1a75c7c53c77",
   "metadata": {},
   "outputs": [
    {
     "name": "stdout",
     "output_type": "stream",
     "text": [
      "Dự đoán con vật:  cat\n",
      "Dự đoán con vật:  dog\n",
      "Dự đoán con vật:  fish\n"
     ]
    }
   ],
   "source": [
    "#W1A9\n",
    "for x in[\"cat\", \"dog\", \"fish\"]:\n",
    "    print(\"Dự đoán con vật: \", x)"
   ]
  },
  {
   "cell_type": "code",
   "execution_count": 40,
   "id": "32d3d72d-5cc5-448e-9ecd-370ff14628bd",
   "metadata": {},
   "outputs": [
    {
     "name": "stdout",
     "output_type": "stream",
     "text": [
      "=== AI Prediction System ===\n",
      "1) Sentiment analysis\n",
      "2) Weather forecast\n",
      "3) Exit\n",
      "Please choose an option:\n"
     ]
    }
   ],
   "source": [
    "#W1A10\n",
    "#Lỗi 1: dòng print đầu thiếu ()\n",
    "#Lỗi 2: dòng print 2 bị thiếu )\n",
    "#Lỗi 3: dòng print 3 bị thừa )\n",
    "#Lỗi 4: dòng print 4 bị thiếu )\n",
    "# Simple menu\n",
    "print (\"=== AI Prediction System ===\")\n",
    "print(\"1) Sentiment analysis\")\n",
    "print(\"2) Weather forecast\")\n",
    "print('3) Exit')\n",
    "print(\"Please choose an option:\") \n",
    "\n"
   ]
  },
  {
   "cell_type": "code",
   "execution_count": null,
   "id": "473c0050-b50d-4b51-9ef7-373ef32f492c",
   "metadata": {},
   "outputs": [],
   "source": []
  }
 ],
 "metadata": {
  "kernelspec": {
   "display_name": "Python 3 (ipykernel)",
   "language": "python",
   "name": "python3"
  },
  "language_info": {
   "codemirror_mode": {
    "name": "ipython",
    "version": 3
   },
   "file_extension": ".py",
   "mimetype": "text/x-python",
   "name": "python",
   "nbconvert_exporter": "python",
   "pygments_lexer": "ipython3",
   "version": "3.13.5"
  }
 },
 "nbformat": 4,
 "nbformat_minor": 5
}
